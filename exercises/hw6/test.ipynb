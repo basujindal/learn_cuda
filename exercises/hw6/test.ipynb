{
 "cells": [
  {
   "cell_type": "code",
   "execution_count": 16,
   "metadata": {},
   "outputs": [
    {
     "name": "stdout",
     "output_type": "stream",
     "text": [
      "1\n",
      "3\n",
      "5\n",
      "7\n"
     ]
    }
   ],
   "source": [
    "def foo(li):\n",
    "    for i in li:\n",
    "        if i%2 == 1:\n",
    "            print(i)\n",
    "        else:\n",
    "            break  \n",
    "    else:\n",
    "        print(float('inf'))\n",
    "\n",
    "foo([1,3,5,7, 8, 9])\n",
    "\n",
    "# this code works fine without if statement bec"
   ]
  },
  {
   "cell_type": "code",
   "execution_count": 4,
   "metadata": {},
   "outputs": [
    {
     "ename": "SyntaxError",
     "evalue": "invalid syntax (186415718.py, line 3)",
     "output_type": "error",
     "traceback": [
      "\u001b[0;36m  Input \u001b[0;32mIn [4]\u001b[0;36m\u001b[0m\n\u001b[0;31m    global pi  = 3.14\u001b[0m\n\u001b[0m               ^\u001b[0m\n\u001b[0;31mSyntaxError\u001b[0m\u001b[0;31m:\u001b[0m invalid syntax\n"
     ]
    }
   ],
   "source": [
    "class circle:\n",
    "\n",
    "    pi  = 3.14\n",
    "\n",
    "    def __init__(self, radius):\n",
    "        self.radius = radius\n",
    "\n",
    "    def circ(self):\n",
    "        print(self.pi, circle.pi)\n",
    "        return 2 * circle.pi * self.radius\n",
    "\n",
    "c1 = circle(1)\n",
    "c2 = circle(1)\n",
    "c1.pi = 4\n",
    "print(c1.circ())\n",
    "print(c2.circ())"
   ]
  }
 ],
 "metadata": {
  "kernelspec": {
   "display_name": "misc",
   "language": "python",
   "name": "python3"
  },
  "language_info": {
   "codemirror_mode": {
    "name": "ipython",
    "version": 3
   },
   "file_extension": ".py",
   "mimetype": "text/x-python",
   "name": "python",
   "nbconvert_exporter": "python",
   "pygments_lexer": "ipython3",
   "version": "3.8.13"
  }
 },
 "nbformat": 4,
 "nbformat_minor": 2
}
