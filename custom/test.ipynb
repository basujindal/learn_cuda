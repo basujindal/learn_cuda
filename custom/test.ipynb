{
 "cells": [
  {
   "cell_type": "code",
   "execution_count": 5,
   "metadata": {},
   "outputs": [],
   "source": [
    "# save in a format readable by c\n",
    "import numpy as np\n",
    "import torch\n",
    "\n",
    "data = torch.load('pytorch_model.bin', map_location='cpu')"
   ]
  },
  {
   "cell_type": "code",
   "execution_count": 4,
   "metadata": {},
   "outputs": [
    {
     "name": "stdout",
     "output_type": "stream",
     "text": [
      "wte.weight torch.Size([50257, 768])\n",
      "wpe.weight torch.Size([1024, 768])\n",
      "h.0.ln_1.weight torch.Size([768])\n",
      "h.0.ln_1.bias torch.Size([768])\n",
      "h.0.attn.bias torch.Size([1, 1, 1024, 1024])\n",
      "h.0.attn.c_attn.weight torch.Size([768, 2304])\n",
      "h.0.attn.c_attn.bias torch.Size([2304])\n",
      "h.0.attn.c_proj.weight torch.Size([768, 768])\n",
      "h.0.attn.c_proj.bias torch.Size([768])\n",
      "h.0.ln_2.weight torch.Size([768])\n",
      "h.0.ln_2.bias torch.Size([768])\n",
      "h.0.mlp.c_fc.weight torch.Size([768, 3072])\n",
      "h.0.mlp.c_fc.bias torch.Size([3072])\n",
      "h.0.mlp.c_proj.weight torch.Size([3072, 768])\n",
      "h.0.mlp.c_proj.bias torch.Size([768])\n",
      "h.1.ln_1.weight torch.Size([768])\n",
      "h.1.ln_1.bias torch.Size([768])\n",
      "h.1.attn.bias torch.Size([1, 1, 1024, 1024])\n",
      "h.1.attn.c_attn.weight torch.Size([768, 2304])\n",
      "h.1.attn.c_attn.bias torch.Size([2304])\n",
      "h.1.attn.c_proj.weight torch.Size([768, 768])\n",
      "h.1.attn.c_proj.bias torch.Size([768])\n",
      "h.1.ln_2.weight torch.Size([768])\n",
      "h.1.ln_2.bias torch.Size([768])\n",
      "h.1.mlp.c_fc.weight torch.Size([768, 3072])\n",
      "h.1.mlp.c_fc.bias torch.Size([3072])\n",
      "h.1.mlp.c_proj.weight torch.Size([3072, 768])\n",
      "h.1.mlp.c_proj.bias torch.Size([768])\n",
      "h.2.ln_1.weight torch.Size([768])\n",
      "h.2.ln_1.bias torch.Size([768])\n",
      "h.2.attn.bias torch.Size([1, 1, 1024, 1024])\n",
      "h.2.attn.c_attn.weight torch.Size([768, 2304])\n",
      "h.2.attn.c_attn.bias torch.Size([2304])\n",
      "h.2.attn.c_proj.weight torch.Size([768, 768])\n",
      "h.2.attn.c_proj.bias torch.Size([768])\n",
      "h.2.ln_2.weight torch.Size([768])\n",
      "h.2.ln_2.bias torch.Size([768])\n",
      "h.2.mlp.c_fc.weight torch.Size([768, 3072])\n",
      "h.2.mlp.c_fc.bias torch.Size([3072])\n",
      "h.2.mlp.c_proj.weight torch.Size([3072, 768])\n",
      "h.2.mlp.c_proj.bias torch.Size([768])\n",
      "h.3.ln_1.weight torch.Size([768])\n",
      "h.3.ln_1.bias torch.Size([768])\n",
      "h.3.attn.bias torch.Size([1, 1, 1024, 1024])\n",
      "h.3.attn.c_attn.weight torch.Size([768, 2304])\n",
      "h.3.attn.c_attn.bias torch.Size([2304])\n",
      "h.3.attn.c_proj.weight torch.Size([768, 768])\n",
      "h.3.attn.c_proj.bias torch.Size([768])\n",
      "h.3.ln_2.weight torch.Size([768])\n",
      "h.3.ln_2.bias torch.Size([768])\n",
      "h.3.mlp.c_fc.weight torch.Size([768, 3072])\n",
      "h.3.mlp.c_fc.bias torch.Size([3072])\n",
      "h.3.mlp.c_proj.weight torch.Size([3072, 768])\n",
      "h.3.mlp.c_proj.bias torch.Size([768])\n",
      "h.4.ln_1.weight torch.Size([768])\n",
      "h.4.ln_1.bias torch.Size([768])\n",
      "h.4.attn.bias torch.Size([1, 1, 1024, 1024])\n",
      "h.4.attn.c_attn.weight torch.Size([768, 2304])\n",
      "h.4.attn.c_attn.bias torch.Size([2304])\n",
      "h.4.attn.c_proj.weight torch.Size([768, 768])\n",
      "h.4.attn.c_proj.bias torch.Size([768])\n",
      "h.4.ln_2.weight torch.Size([768])\n",
      "h.4.ln_2.bias torch.Size([768])\n",
      "h.4.mlp.c_fc.weight torch.Size([768, 3072])\n",
      "h.4.mlp.c_fc.bias torch.Size([3072])\n",
      "h.4.mlp.c_proj.weight torch.Size([3072, 768])\n",
      "h.4.mlp.c_proj.bias torch.Size([768])\n",
      "h.5.ln_1.weight torch.Size([768])\n",
      "h.5.ln_1.bias torch.Size([768])\n",
      "h.5.attn.bias torch.Size([1, 1, 1024, 1024])\n",
      "h.5.attn.c_attn.weight torch.Size([768, 2304])\n",
      "h.5.attn.c_attn.bias torch.Size([2304])\n",
      "h.5.attn.c_proj.weight torch.Size([768, 768])\n",
      "h.5.attn.c_proj.bias torch.Size([768])\n",
      "h.5.ln_2.weight torch.Size([768])\n",
      "h.5.ln_2.bias torch.Size([768])\n",
      "h.5.mlp.c_fc.weight torch.Size([768, 3072])\n",
      "h.5.mlp.c_fc.bias torch.Size([3072])\n",
      "h.5.mlp.c_proj.weight torch.Size([3072, 768])\n",
      "h.5.mlp.c_proj.bias torch.Size([768])\n",
      "h.6.ln_1.weight torch.Size([768])\n",
      "h.6.ln_1.bias torch.Size([768])\n",
      "h.6.attn.bias torch.Size([1, 1, 1024, 1024])\n",
      "h.6.attn.c_attn.weight torch.Size([768, 2304])\n",
      "h.6.attn.c_attn.bias torch.Size([2304])\n",
      "h.6.attn.c_proj.weight torch.Size([768, 768])\n",
      "h.6.attn.c_proj.bias torch.Size([768])\n",
      "h.6.ln_2.weight torch.Size([768])\n",
      "h.6.ln_2.bias torch.Size([768])\n",
      "h.6.mlp.c_fc.weight torch.Size([768, 3072])\n",
      "h.6.mlp.c_fc.bias torch.Size([3072])\n",
      "h.6.mlp.c_proj.weight torch.Size([3072, 768])\n",
      "h.6.mlp.c_proj.bias torch.Size([768])\n",
      "h.7.ln_1.weight torch.Size([768])\n",
      "h.7.ln_1.bias torch.Size([768])\n",
      "h.7.attn.bias torch.Size([1, 1, 1024, 1024])\n",
      "h.7.attn.c_attn.weight torch.Size([768, 2304])\n",
      "h.7.attn.c_attn.bias torch.Size([2304])\n",
      "h.7.attn.c_proj.weight torch.Size([768, 768])\n",
      "h.7.attn.c_proj.bias torch.Size([768])\n",
      "h.7.ln_2.weight torch.Size([768])\n",
      "h.7.ln_2.bias torch.Size([768])\n",
      "h.7.mlp.c_fc.weight torch.Size([768, 3072])\n",
      "h.7.mlp.c_fc.bias torch.Size([3072])\n",
      "h.7.mlp.c_proj.weight torch.Size([3072, 768])\n",
      "h.7.mlp.c_proj.bias torch.Size([768])\n",
      "h.8.ln_1.weight torch.Size([768])\n",
      "h.8.ln_1.bias torch.Size([768])\n",
      "h.8.attn.bias torch.Size([1, 1, 1024, 1024])\n",
      "h.8.attn.c_attn.weight torch.Size([768, 2304])\n",
      "h.8.attn.c_attn.bias torch.Size([2304])\n",
      "h.8.attn.c_proj.weight torch.Size([768, 768])\n",
      "h.8.attn.c_proj.bias torch.Size([768])\n",
      "h.8.ln_2.weight torch.Size([768])\n",
      "h.8.ln_2.bias torch.Size([768])\n",
      "h.8.mlp.c_fc.weight torch.Size([768, 3072])\n",
      "h.8.mlp.c_fc.bias torch.Size([3072])\n",
      "h.8.mlp.c_proj.weight torch.Size([3072, 768])\n",
      "h.8.mlp.c_proj.bias torch.Size([768])\n",
      "h.9.ln_1.weight torch.Size([768])\n",
      "h.9.ln_1.bias torch.Size([768])\n",
      "h.9.attn.bias torch.Size([1, 1, 1024, 1024])\n",
      "h.9.attn.c_attn.weight torch.Size([768, 2304])\n",
      "h.9.attn.c_attn.bias torch.Size([2304])\n",
      "h.9.attn.c_proj.weight torch.Size([768, 768])\n",
      "h.9.attn.c_proj.bias torch.Size([768])\n",
      "h.9.ln_2.weight torch.Size([768])\n",
      "h.9.ln_2.bias torch.Size([768])\n",
      "h.9.mlp.c_fc.weight torch.Size([768, 3072])\n",
      "h.9.mlp.c_fc.bias torch.Size([3072])\n",
      "h.9.mlp.c_proj.weight torch.Size([3072, 768])\n",
      "h.9.mlp.c_proj.bias torch.Size([768])\n",
      "h.10.ln_1.weight torch.Size([768])\n",
      "h.10.ln_1.bias torch.Size([768])\n",
      "h.10.attn.bias torch.Size([1, 1, 1024, 1024])\n",
      "h.10.attn.c_attn.weight torch.Size([768, 2304])\n",
      "h.10.attn.c_attn.bias torch.Size([2304])\n",
      "h.10.attn.c_proj.weight torch.Size([768, 768])\n",
      "h.10.attn.c_proj.bias torch.Size([768])\n",
      "h.10.ln_2.weight torch.Size([768])\n",
      "h.10.ln_2.bias torch.Size([768])\n",
      "h.10.mlp.c_fc.weight torch.Size([768, 3072])\n",
      "h.10.mlp.c_fc.bias torch.Size([3072])\n",
      "h.10.mlp.c_proj.weight torch.Size([3072, 768])\n",
      "h.10.mlp.c_proj.bias torch.Size([768])\n",
      "h.11.ln_1.weight torch.Size([768])\n",
      "h.11.ln_1.bias torch.Size([768])\n",
      "h.11.attn.bias torch.Size([1, 1, 1024, 1024])\n",
      "h.11.attn.c_attn.weight torch.Size([768, 2304])\n",
      "h.11.attn.c_attn.bias torch.Size([2304])\n",
      "h.11.attn.c_proj.weight torch.Size([768, 768])\n",
      "h.11.attn.c_proj.bias torch.Size([768])\n",
      "h.11.ln_2.weight torch.Size([768])\n",
      "h.11.ln_2.bias torch.Size([768])\n",
      "h.11.mlp.c_fc.weight torch.Size([768, 3072])\n",
      "h.11.mlp.c_fc.bias torch.Size([3072])\n",
      "h.11.mlp.c_proj.weight torch.Size([3072, 768])\n",
      "h.11.mlp.c_proj.bias torch.Size([768])\n",
      "ln_f.weight torch.Size([768])\n",
      "ln_f.bias torch.Size([768])\n"
     ]
    }
   ],
   "source": [
    "for i in data.keys():\n",
    "    print(i, data[i].shape)"
   ]
  },
  {
   "cell_type": "code",
   "execution_count": 15,
   "metadata": {},
   "outputs": [
    {
     "data": {
      "text/plain": [
       "torch.Size([2304])"
      ]
     },
     "execution_count": 15,
     "metadata": {},
     "output_type": "execute_result"
    }
   ],
   "source": [
    "data['h.0.attn.c_attn.bias'].shape"
   ]
  },
  {
   "cell_type": "code",
   "execution_count": 3,
   "metadata": {},
   "outputs": [
    {
     "data": {
      "text/plain": [
       "torch.Size([768, 768])"
      ]
     },
     "execution_count": 3,
     "metadata": {},
     "output_type": "execute_result"
    }
   ],
   "source": [
    "data['h.0.attn.c_proj.weight'].shape"
   ]
  },
  {
   "cell_type": "code",
   "execution_count": 6,
   "metadata": {},
   "outputs": [
    {
     "name": "stdout",
     "output_type": "stream",
     "text": [
      "(768, 768) (768, 768) (768, 768)\n",
      "(768,) (768,) (768,)\n",
      "(768, 768) (768, 768) (768, 768)\n",
      "(768,) (768,) (768,)\n",
      "(768, 768) (768, 768) (768, 768)\n",
      "(768,) (768,) (768,)\n",
      "(768, 768) (768, 768) (768, 768)\n",
      "(768,) (768,) (768,)\n",
      "(768, 768) (768, 768) (768, 768)\n",
      "(768,) (768,) (768,)\n",
      "(768, 768) (768, 768) (768, 768)\n",
      "(768,) (768,) (768,)\n",
      "(768, 768) (768, 768) (768, 768)\n",
      "(768,) (768,) (768,)\n",
      "(768, 768) (768, 768) (768, 768)\n",
      "(768,) (768,) (768,)\n",
      "(768, 768) (768, 768) (768, 768)\n",
      "(768,) (768,) (768,)\n",
      "(768, 768) (768, 768) (768, 768)\n",
      "(768,) (768,) (768,)\n",
      "(768, 768) (768, 768) (768, 768)\n",
      "(768,) (768,) (768,)\n",
      "(768, 768) (768, 768) (768, 768)\n",
      "(768,) (768,) (768,)\n"
     ]
    }
   ],
   "source": [
    "import os\n",
    "os.makedirs(\"gpt_weights\", exist_ok=True)\n",
    "for key in data.keys():\n",
    "    if \"attn.c_attn\" in key:\n",
    "        # split to q, k, v\n",
    "        q, k, v = np.split(data[key].numpy(), 3, axis=-1)\n",
    "        print(q.shape, k.shape, v.shape, key.shape)\n",
    "        # q.tofile(f\"gpt_weights/{key}.q.bin\")\n",
    "        # k.tofile(f\"gpt_weights/{key}.k.bin\")\n",
    "        # v.tofile(f\"gpt_weights/{key}.v.bin\")\n",
    "    else:\n",
    "        pass\n",
    "        # data[key].numpy().tofile(f\"gpt_weights/{key}.bin\")\n",
    "        # print(data[key].numpy().shape)\n",
    "\n",
    "# save transpose of wte.weight as etw.weight\n",
    "\n",
    "etw = data['wte.weight'].numpy().T\n",
    "etw.tofile(\"gpt_weights/etw.weight.bin\")"
   ]
  },
  {
   "cell_type": "code",
   "execution_count": 2,
   "metadata": {},
   "outputs": [
    {
     "data": {
      "text/plain": [
       "GPT2Config {\n",
       "  \"_name_or_path\": \"gpt2\",\n",
       "  \"activation_function\": \"gelu_new\",\n",
       "  \"architectures\": [\n",
       "    \"GPT2LMHeadModel\"\n",
       "  ],\n",
       "  \"attn_pdrop\": 0.1,\n",
       "  \"bos_token_id\": 50256,\n",
       "  \"embd_pdrop\": 0.1,\n",
       "  \"eos_token_id\": 50256,\n",
       "  \"initializer_range\": 0.02,\n",
       "  \"layer_norm_epsilon\": 1e-05,\n",
       "  \"model_type\": \"gpt2\",\n",
       "  \"n_ctx\": 1024,\n",
       "  \"n_embd\": 768,\n",
       "  \"n_head\": 12,\n",
       "  \"n_inner\": null,\n",
       "  \"n_layer\": 12,\n",
       "  \"n_positions\": 1024,\n",
       "  \"reorder_and_upcast_attn\": false,\n",
       "  \"resid_pdrop\": 0.1,\n",
       "  \"scale_attn_by_inverse_layer_idx\": false,\n",
       "  \"scale_attn_weights\": true,\n",
       "  \"summary_activation\": null,\n",
       "  \"summary_first_dropout\": 0.1,\n",
       "  \"summary_proj_to_labels\": true,\n",
       "  \"summary_type\": \"cls_index\",\n",
       "  \"summary_use_proj\": true,\n",
       "  \"task_specific_params\": {\n",
       "    \"text-generation\": {\n",
       "      \"do_sample\": true,\n",
       "      \"max_length\": 50\n",
       "    }\n",
       "  },\n",
       "  \"transformers_version\": \"4.42.4\",\n",
       "  \"use_cache\": true,\n",
       "  \"vocab_size\": 50257\n",
       "}"
      ]
     },
     "execution_count": 2,
     "metadata": {},
     "output_type": "execute_result"
    }
   ],
   "source": [
    "model.config._attn_implementation = 'eager'"
   ]
  },
  {
   "cell_type": "code",
   "execution_count": 1,
   "metadata": {},
   "outputs": [
    {
     "name": "stdout",
     "output_type": "stream",
     "text": [
      "torch.Size([1, 5])\n",
      "tensor([[[-0.0875, -0.3301,  0.0152,  ...,  0.0285, -0.0014,  0.0068],\n",
      "         [ 0.0355, -0.0567, -0.0626,  ...,  0.0619, -0.0195, -0.0601],\n",
      "         [ 0.1620,  0.0243,  0.1283,  ...,  0.0703,  0.1250,  0.0067],\n",
      "         [-0.2240,  0.0899,  0.2419,  ...,  0.0529, -0.0414, -0.1127],\n",
      "         [-0.0021, -0.0150,  0.1825,  ...,  0.1230, -0.0282, -0.0324]]],\n",
      "       grad_fn=<AddBackward0>)\n",
      "torch.Size([1, 5, 768])\n",
      "attn_output tensor([[[ 0.2490, -0.4001, -0.2390,  ...,  0.0205, -0.0261,  0.1027],\n",
      "         [ 0.0972, -0.2530, -0.3704,  ..., -0.0196,  0.0435,  0.0473],\n",
      "         [-0.3973,  0.1172, -0.0790,  ..., -0.0245,  0.0524,  0.0311],\n",
      "         [-1.3197,  0.4543, -0.5534,  ...,  0.0156,  0.0123,  0.0180],\n",
      "         [-1.0368, -0.0070, -0.3843,  ..., -0.0023,  0.0444,  0.0364]]],\n",
      "       grad_fn=<ViewBackward0>)\n",
      "torch.Size([1, 5, 768])\n",
      "hidden_states tensor([[[-0.0522, -0.1287, -0.0559,  ...,  0.0056, -0.0125, -0.0099],\n",
      "         [ 0.0331, -0.0205, -0.1084,  ...,  0.0435, -0.0306, -0.0684],\n",
      "         [ 0.1834,  0.0518,  0.0381,  ...,  0.0592,  0.1043, -0.0071],\n",
      "         [-0.2524,  0.1126,  0.1257,  ...,  0.0426, -0.0494, -0.1207],\n",
      "         [-0.0009,  0.0162,  0.0969,  ...,  0.1246, -0.0386, -0.0456]]],\n",
      "       grad_fn=<NativeLayerNormBackward0>)\n"
     ]
    },
    {
     "ename": "NameError",
     "evalue": "name 'ds' is not defined",
     "output_type": "error",
     "traceback": [
      "\u001b[0;31m---------------------------------------------------------------------------\u001b[0m",
      "\u001b[0;31mNameError\u001b[0m                                 Traceback (most recent call last)",
      "\u001b[1;32m/home/thunder/my_github_clones/learn_cuda/custom/test.ipynb Cell 6\u001b[0m line \u001b[0;36m<cell line: 12>\u001b[0;34m()\u001b[0m\n\u001b[1;32m     <a href='vscode-notebook-cell:/home/thunder/my_github_clones/learn_cuda/custom/test.ipynb#W3sZmlsZQ%3D%3D?line=9'>10</a>\u001b[0m encoded_input \u001b[39m=\u001b[39m tokenizer(text, return_tensors\u001b[39m=\u001b[39m\u001b[39m'\u001b[39m\u001b[39mpt\u001b[39m\u001b[39m'\u001b[39m)\n\u001b[1;32m     <a href='vscode-notebook-cell:/home/thunder/my_github_clones/learn_cuda/custom/test.ipynb#W3sZmlsZQ%3D%3D?line=10'>11</a>\u001b[0m \u001b[39mprint\u001b[39m(encoded_input[\u001b[39m'\u001b[39m\u001b[39minput_ids\u001b[39m\u001b[39m'\u001b[39m]\u001b[39m.\u001b[39mshape)\n\u001b[0;32m---> <a href='vscode-notebook-cell:/home/thunder/my_github_clones/learn_cuda/custom/test.ipynb#W3sZmlsZQ%3D%3D?line=11'>12</a>\u001b[0m output \u001b[39m=\u001b[39m model(\u001b[39m*\u001b[39;49m\u001b[39m*\u001b[39;49mencoded_input, output_hidden_states\u001b[39m=\u001b[39;49m\u001b[39mTrue\u001b[39;49;00m)\n\u001b[1;32m     <a href='vscode-notebook-cell:/home/thunder/my_github_clones/learn_cuda/custom/test.ipynb#W3sZmlsZQ%3D%3D?line=12'>13</a>\u001b[0m tokenizer\u001b[39m.\u001b[39mdecode(output\u001b[39m.\u001b[39mlogits\u001b[39m.\u001b[39margmax(\u001b[39m2\u001b[39m)[\u001b[39m0\u001b[39m][\u001b[39m-\u001b[39m\u001b[39m1\u001b[39m])\n",
      "File \u001b[0;32m~/anaconda3/envs/misc/lib/python3.8/site-packages/torch/nn/modules/module.py:1518\u001b[0m, in \u001b[0;36mModule._wrapped_call_impl\u001b[0;34m(self, *args, **kwargs)\u001b[0m\n\u001b[1;32m   1516\u001b[0m     \u001b[39mreturn\u001b[39;00m \u001b[39mself\u001b[39m\u001b[39m.\u001b[39m_compiled_call_impl(\u001b[39m*\u001b[39margs, \u001b[39m*\u001b[39m\u001b[39m*\u001b[39mkwargs)  \u001b[39m# type: ignore[misc]\u001b[39;00m\n\u001b[1;32m   1517\u001b[0m \u001b[39melse\u001b[39;00m:\n\u001b[0;32m-> 1518\u001b[0m     \u001b[39mreturn\u001b[39;00m \u001b[39mself\u001b[39;49m\u001b[39m.\u001b[39;49m_call_impl(\u001b[39m*\u001b[39;49margs, \u001b[39m*\u001b[39;49m\u001b[39m*\u001b[39;49mkwargs)\n",
      "File \u001b[0;32m~/anaconda3/envs/misc/lib/python3.8/site-packages/torch/nn/modules/module.py:1527\u001b[0m, in \u001b[0;36mModule._call_impl\u001b[0;34m(self, *args, **kwargs)\u001b[0m\n\u001b[1;32m   1522\u001b[0m \u001b[39m# If we don't have any hooks, we want to skip the rest of the logic in\u001b[39;00m\n\u001b[1;32m   1523\u001b[0m \u001b[39m# this function, and just call forward.\u001b[39;00m\n\u001b[1;32m   1524\u001b[0m \u001b[39mif\u001b[39;00m \u001b[39mnot\u001b[39;00m (\u001b[39mself\u001b[39m\u001b[39m.\u001b[39m_backward_hooks \u001b[39mor\u001b[39;00m \u001b[39mself\u001b[39m\u001b[39m.\u001b[39m_backward_pre_hooks \u001b[39mor\u001b[39;00m \u001b[39mself\u001b[39m\u001b[39m.\u001b[39m_forward_hooks \u001b[39mor\u001b[39;00m \u001b[39mself\u001b[39m\u001b[39m.\u001b[39m_forward_pre_hooks\n\u001b[1;32m   1525\u001b[0m         \u001b[39mor\u001b[39;00m _global_backward_pre_hooks \u001b[39mor\u001b[39;00m _global_backward_hooks\n\u001b[1;32m   1526\u001b[0m         \u001b[39mor\u001b[39;00m _global_forward_hooks \u001b[39mor\u001b[39;00m _global_forward_pre_hooks):\n\u001b[0;32m-> 1527\u001b[0m     \u001b[39mreturn\u001b[39;00m forward_call(\u001b[39m*\u001b[39;49margs, \u001b[39m*\u001b[39;49m\u001b[39m*\u001b[39;49mkwargs)\n\u001b[1;32m   1529\u001b[0m \u001b[39mtry\u001b[39;00m:\n\u001b[1;32m   1530\u001b[0m     result \u001b[39m=\u001b[39m \u001b[39mNone\u001b[39;00m\n",
      "File \u001b[0;32m~/anaconda3/envs/misc/lib/python3.8/site-packages/transformers/models/gpt2/modeling_gpt2.py:1434\u001b[0m, in \u001b[0;36mGPT2LMHeadModel.forward\u001b[0;34m(self, input_ids, past_key_values, attention_mask, token_type_ids, position_ids, head_mask, inputs_embeds, encoder_hidden_states, encoder_attention_mask, labels, use_cache, output_attentions, output_hidden_states, return_dict)\u001b[0m\n\u001b[1;32m   1426\u001b[0m \u001b[39mr\u001b[39m\u001b[39m\"\"\"\u001b[39;00m\n\u001b[1;32m   1427\u001b[0m \u001b[39mlabels (`torch.LongTensor` of shape `(batch_size, sequence_length)`, *optional*):\u001b[39;00m\n\u001b[1;32m   1428\u001b[0m \u001b[39m    Labels for language modeling. Note that the labels **are shifted** inside the model, i.e. you can set\u001b[39;00m\n\u001b[1;32m   1429\u001b[0m \u001b[39m    `labels = input_ids` Indices are selected in `[-100, 0, ..., config.vocab_size]` All labels set to `-100`\u001b[39;00m\n\u001b[1;32m   1430\u001b[0m \u001b[39m    are ignored (masked), the loss is only computed for labels in `[0, ..., config.vocab_size]`\u001b[39;00m\n\u001b[1;32m   1431\u001b[0m \u001b[39m\"\"\"\u001b[39;00m\n\u001b[1;32m   1432\u001b[0m return_dict \u001b[39m=\u001b[39m return_dict \u001b[39mif\u001b[39;00m return_dict \u001b[39mis\u001b[39;00m \u001b[39mnot\u001b[39;00m \u001b[39mNone\u001b[39;00m \u001b[39melse\u001b[39;00m \u001b[39mself\u001b[39m\u001b[39m.\u001b[39mconfig\u001b[39m.\u001b[39muse_return_dict\n\u001b[0;32m-> 1434\u001b[0m transformer_outputs \u001b[39m=\u001b[39m \u001b[39mself\u001b[39;49m\u001b[39m.\u001b[39;49mtransformer(\n\u001b[1;32m   1435\u001b[0m     input_ids,\n\u001b[1;32m   1436\u001b[0m     past_key_values\u001b[39m=\u001b[39;49mpast_key_values,\n\u001b[1;32m   1437\u001b[0m     attention_mask\u001b[39m=\u001b[39;49mattention_mask,\n\u001b[1;32m   1438\u001b[0m     token_type_ids\u001b[39m=\u001b[39;49mtoken_type_ids,\n\u001b[1;32m   1439\u001b[0m     position_ids\u001b[39m=\u001b[39;49mposition_ids,\n\u001b[1;32m   1440\u001b[0m     head_mask\u001b[39m=\u001b[39;49mhead_mask,\n\u001b[1;32m   1441\u001b[0m     inputs_embeds\u001b[39m=\u001b[39;49minputs_embeds,\n\u001b[1;32m   1442\u001b[0m     encoder_hidden_states\u001b[39m=\u001b[39;49mencoder_hidden_states,\n\u001b[1;32m   1443\u001b[0m     encoder_attention_mask\u001b[39m=\u001b[39;49mencoder_attention_mask,\n\u001b[1;32m   1444\u001b[0m     use_cache\u001b[39m=\u001b[39;49muse_cache,\n\u001b[1;32m   1445\u001b[0m     output_attentions\u001b[39m=\u001b[39;49moutput_attentions,\n\u001b[1;32m   1446\u001b[0m     output_hidden_states\u001b[39m=\u001b[39;49moutput_hidden_states,\n\u001b[1;32m   1447\u001b[0m     return_dict\u001b[39m=\u001b[39;49mreturn_dict,\n\u001b[1;32m   1448\u001b[0m )\n\u001b[1;32m   1449\u001b[0m hidden_states \u001b[39m=\u001b[39m transformer_outputs[\u001b[39m0\u001b[39m]\n\u001b[1;32m   1451\u001b[0m \u001b[39m# Set device for model parallelism\u001b[39;00m\n",
      "File \u001b[0;32m~/anaconda3/envs/misc/lib/python3.8/site-packages/torch/nn/modules/module.py:1518\u001b[0m, in \u001b[0;36mModule._wrapped_call_impl\u001b[0;34m(self, *args, **kwargs)\u001b[0m\n\u001b[1;32m   1516\u001b[0m     \u001b[39mreturn\u001b[39;00m \u001b[39mself\u001b[39m\u001b[39m.\u001b[39m_compiled_call_impl(\u001b[39m*\u001b[39margs, \u001b[39m*\u001b[39m\u001b[39m*\u001b[39mkwargs)  \u001b[39m# type: ignore[misc]\u001b[39;00m\n\u001b[1;32m   1517\u001b[0m \u001b[39melse\u001b[39;00m:\n\u001b[0;32m-> 1518\u001b[0m     \u001b[39mreturn\u001b[39;00m \u001b[39mself\u001b[39;49m\u001b[39m.\u001b[39;49m_call_impl(\u001b[39m*\u001b[39;49margs, \u001b[39m*\u001b[39;49m\u001b[39m*\u001b[39;49mkwargs)\n",
      "File \u001b[0;32m~/anaconda3/envs/misc/lib/python3.8/site-packages/torch/nn/modules/module.py:1527\u001b[0m, in \u001b[0;36mModule._call_impl\u001b[0;34m(self, *args, **kwargs)\u001b[0m\n\u001b[1;32m   1522\u001b[0m \u001b[39m# If we don't have any hooks, we want to skip the rest of the logic in\u001b[39;00m\n\u001b[1;32m   1523\u001b[0m \u001b[39m# this function, and just call forward.\u001b[39;00m\n\u001b[1;32m   1524\u001b[0m \u001b[39mif\u001b[39;00m \u001b[39mnot\u001b[39;00m (\u001b[39mself\u001b[39m\u001b[39m.\u001b[39m_backward_hooks \u001b[39mor\u001b[39;00m \u001b[39mself\u001b[39m\u001b[39m.\u001b[39m_backward_pre_hooks \u001b[39mor\u001b[39;00m \u001b[39mself\u001b[39m\u001b[39m.\u001b[39m_forward_hooks \u001b[39mor\u001b[39;00m \u001b[39mself\u001b[39m\u001b[39m.\u001b[39m_forward_pre_hooks\n\u001b[1;32m   1525\u001b[0m         \u001b[39mor\u001b[39;00m _global_backward_pre_hooks \u001b[39mor\u001b[39;00m _global_backward_hooks\n\u001b[1;32m   1526\u001b[0m         \u001b[39mor\u001b[39;00m _global_forward_hooks \u001b[39mor\u001b[39;00m _global_forward_pre_hooks):\n\u001b[0;32m-> 1527\u001b[0m     \u001b[39mreturn\u001b[39;00m forward_call(\u001b[39m*\u001b[39;49margs, \u001b[39m*\u001b[39;49m\u001b[39m*\u001b[39;49mkwargs)\n\u001b[1;32m   1529\u001b[0m \u001b[39mtry\u001b[39;00m:\n\u001b[1;32m   1530\u001b[0m     result \u001b[39m=\u001b[39m \u001b[39mNone\u001b[39;00m\n",
      "File \u001b[0;32m~/anaconda3/envs/misc/lib/python3.8/site-packages/transformers/models/gpt2/modeling_gpt2.py:1243\u001b[0m, in \u001b[0;36mGPT2Model.forward\u001b[0;34m(self, input_ids, past_key_values, attention_mask, token_type_ids, position_ids, head_mask, inputs_embeds, encoder_hidden_states, encoder_attention_mask, use_cache, output_attentions, output_hidden_states, return_dict)\u001b[0m\n\u001b[1;32m   1231\u001b[0m     outputs \u001b[39m=\u001b[39m \u001b[39mself\u001b[39m\u001b[39m.\u001b[39m_gradient_checkpointing_func(\n\u001b[1;32m   1232\u001b[0m         block\u001b[39m.\u001b[39m\u001b[39m__call__\u001b[39m,\n\u001b[1;32m   1233\u001b[0m         hidden_states,\n\u001b[0;32m   (...)\u001b[0m\n\u001b[1;32m   1240\u001b[0m         output_attentions,\n\u001b[1;32m   1241\u001b[0m     )\n\u001b[1;32m   1242\u001b[0m \u001b[39melse\u001b[39;00m:\n\u001b[0;32m-> 1243\u001b[0m     outputs \u001b[39m=\u001b[39m block(\n\u001b[1;32m   1244\u001b[0m         hidden_states,\n\u001b[1;32m   1245\u001b[0m         layer_past\u001b[39m=\u001b[39;49mlayer_past,\n\u001b[1;32m   1246\u001b[0m         attention_mask\u001b[39m=\u001b[39;49mattention_mask,\n\u001b[1;32m   1247\u001b[0m         head_mask\u001b[39m=\u001b[39;49mhead_mask[i],\n\u001b[1;32m   1248\u001b[0m         encoder_hidden_states\u001b[39m=\u001b[39;49mencoder_hidden_states,\n\u001b[1;32m   1249\u001b[0m         encoder_attention_mask\u001b[39m=\u001b[39;49mencoder_attention_mask,\n\u001b[1;32m   1250\u001b[0m         use_cache\u001b[39m=\u001b[39;49muse_cache,\n\u001b[1;32m   1251\u001b[0m         output_attentions\u001b[39m=\u001b[39;49moutput_attentions,\n\u001b[1;32m   1252\u001b[0m     )\n\u001b[1;32m   1254\u001b[0m hidden_states \u001b[39m=\u001b[39m outputs[\u001b[39m0\u001b[39m]\n\u001b[1;32m   1255\u001b[0m \u001b[39mif\u001b[39;00m use_cache \u001b[39mis\u001b[39;00m \u001b[39mTrue\u001b[39;00m:\n",
      "File \u001b[0;32m~/anaconda3/envs/misc/lib/python3.8/site-packages/torch/nn/modules/module.py:1518\u001b[0m, in \u001b[0;36mModule._wrapped_call_impl\u001b[0;34m(self, *args, **kwargs)\u001b[0m\n\u001b[1;32m   1516\u001b[0m     \u001b[39mreturn\u001b[39;00m \u001b[39mself\u001b[39m\u001b[39m.\u001b[39m_compiled_call_impl(\u001b[39m*\u001b[39margs, \u001b[39m*\u001b[39m\u001b[39m*\u001b[39mkwargs)  \u001b[39m# type: ignore[misc]\u001b[39;00m\n\u001b[1;32m   1517\u001b[0m \u001b[39melse\u001b[39;00m:\n\u001b[0;32m-> 1518\u001b[0m     \u001b[39mreturn\u001b[39;00m \u001b[39mself\u001b[39;49m\u001b[39m.\u001b[39;49m_call_impl(\u001b[39m*\u001b[39;49margs, \u001b[39m*\u001b[39;49m\u001b[39m*\u001b[39;49mkwargs)\n",
      "File \u001b[0;32m~/anaconda3/envs/misc/lib/python3.8/site-packages/torch/nn/modules/module.py:1527\u001b[0m, in \u001b[0;36mModule._call_impl\u001b[0;34m(self, *args, **kwargs)\u001b[0m\n\u001b[1;32m   1522\u001b[0m \u001b[39m# If we don't have any hooks, we want to skip the rest of the logic in\u001b[39;00m\n\u001b[1;32m   1523\u001b[0m \u001b[39m# this function, and just call forward.\u001b[39;00m\n\u001b[1;32m   1524\u001b[0m \u001b[39mif\u001b[39;00m \u001b[39mnot\u001b[39;00m (\u001b[39mself\u001b[39m\u001b[39m.\u001b[39m_backward_hooks \u001b[39mor\u001b[39;00m \u001b[39mself\u001b[39m\u001b[39m.\u001b[39m_backward_pre_hooks \u001b[39mor\u001b[39;00m \u001b[39mself\u001b[39m\u001b[39m.\u001b[39m_forward_hooks \u001b[39mor\u001b[39;00m \u001b[39mself\u001b[39m\u001b[39m.\u001b[39m_forward_pre_hooks\n\u001b[1;32m   1525\u001b[0m         \u001b[39mor\u001b[39;00m _global_backward_pre_hooks \u001b[39mor\u001b[39;00m _global_backward_hooks\n\u001b[1;32m   1526\u001b[0m         \u001b[39mor\u001b[39;00m _global_forward_hooks \u001b[39mor\u001b[39;00m _global_forward_pre_hooks):\n\u001b[0;32m-> 1527\u001b[0m     \u001b[39mreturn\u001b[39;00m forward_call(\u001b[39m*\u001b[39;49margs, \u001b[39m*\u001b[39;49m\u001b[39m*\u001b[39;49mkwargs)\n\u001b[1;32m   1529\u001b[0m \u001b[39mtry\u001b[39;00m:\n\u001b[1;32m   1530\u001b[0m     result \u001b[39m=\u001b[39m \u001b[39mNone\u001b[39;00m\n",
      "File \u001b[0;32m~/anaconda3/envs/misc/lib/python3.8/site-packages/transformers/models/gpt2/modeling_gpt2.py:736\u001b[0m, in \u001b[0;36mGPT2Block.forward\u001b[0;34m(self, hidden_states, layer_past, attention_mask, head_mask, encoder_hidden_states, encoder_attention_mask, use_cache, output_attentions)\u001b[0m\n\u001b[1;32m    734\u001b[0m \u001b[39mprint\u001b[39m(hidden_states\u001b[39m.\u001b[39mshape)\n\u001b[1;32m    735\u001b[0m \u001b[39mprint\u001b[39m(\u001b[39m\"\u001b[39m\u001b[39mhidden_states\u001b[39m\u001b[39m\"\u001b[39m, hidden_states)\n\u001b[0;32m--> 736\u001b[0m ds\n\u001b[1;32m    737\u001b[0m \u001b[39m# residual connection\u001b[39;00m\n\u001b[1;32m    738\u001b[0m hidden_states \u001b[39m=\u001b[39m attn_output \u001b[39m+\u001b[39m residual\n",
      "\u001b[0;31mNameError\u001b[0m: name 'ds' is not defined"
     ]
    }
   ],
   "source": [
    "from transformers import GPT2Tokenizer, GPT2Model\n",
    "# import model for text generation\n",
    "from transformers import AutoModelForCausalLM\n",
    "\n",
    "tokenizer = GPT2Tokenizer.from_pretrained('gpt2')\n",
    "model = AutoModelForCausalLM.from_pretrained('gpt2')\n",
    "# model = GPT2Model.from_pretrained('gpt2')\n",
    "\n",
    "text = \"Hello, my name is\"\n",
    "encoded_input = tokenizer(text, return_tensors='pt')\n",
    "print(encoded_input['input_ids'].shape)\n",
    "output = model(**encoded_input, output_hidden_states=True)\n",
    "tokenizer.decode(output.logits.argmax(2)[0][-1])"
   ]
  },
  {
   "cell_type": "code",
   "execution_count": null,
   "metadata": {},
   "outputs": [],
   "source": []
  },
  {
   "cell_type": "code",
   "execution_count": 51,
   "metadata": {},
   "outputs": [],
   "source": [
    "# save output['hidden_states'][0][0]\n",
    "\n",
    "output['hidden_states'][0][0].detach().numpy().tofile(\"gpt_weights/input.bin\")\n",
    "output.logits[0].detach().numpy().tofile(\"gpt_weights/output.bin\")"
   ]
  },
  {
   "cell_type": "code",
   "execution_count": 55,
   "metadata": {},
   "outputs": [],
   "source": []
  }
 ],
 "metadata": {
  "kernelspec": {
   "display_name": "misc",
   "language": "python",
   "name": "python3"
  },
  "language_info": {
   "codemirror_mode": {
    "name": "ipython",
    "version": 3
   },
   "file_extension": ".py",
   "mimetype": "text/x-python",
   "name": "python",
   "nbconvert_exporter": "python",
   "pygments_lexer": "ipython3",
   "version": "3.8.13"
  }
 },
 "nbformat": 4,
 "nbformat_minor": 2
}
